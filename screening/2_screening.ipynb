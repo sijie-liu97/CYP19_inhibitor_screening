{
 "cells": [
  {
   "cell_type": "code",
   "execution_count": 1,
   "metadata": {},
   "outputs": [],
   "source": [
    "import pandas as pd\n",
    "import sklearn\n",
    "from sklearn import preprocessing\n",
    "import joblib\n",
    "import numpy as np"
   ]
  },
  {
   "cell_type": "code",
   "execution_count": 2,
   "metadata": {},
   "outputs": [],
   "source": [
    "subset1 = pd.read_csv('/home/sliu/cyp_related_coding/RF_CYP19/clean_code/dataset_prep/chembl_trainset_featurized.csv')\n",
    "subset2 = pd.read_csv('/home/sliu/cyp_related_coding/RF_CYP19/clean_code/dataset_prep/chembl_testset_featurized.csv')"
   ]
  },
  {
   "cell_type": "code",
   "execution_count": 3,
   "metadata": {},
   "outputs": [],
   "source": [
    "# combine train and test set and train the final model with full dataset\n",
    "fullset = pd.concat([subset1, subset2], ignore_index=True)\n",
    "desc_cols3 = fullset.iloc[:, 6:214]\n",
    "X = np.array(desc_cols3)\n",
    "\n",
    "scaler = preprocessing.StandardScaler().fit(X)\n"
   ]
  },
  {
   "attachments": {},
   "cell_type": "markdown",
   "metadata": {},
   "source": [
    "## model with rdkit 2d descriptor"
   ]
  },
  {
   "cell_type": "code",
   "execution_count": 4,
   "metadata": {},
   "outputs": [
    {
     "name": "stderr",
     "output_type": "stream",
     "text": [
      "/home/sliu/miniconda3/envs/mldl/lib/python3.11/site-packages/sklearn/base.py:486: UserWarning: X has feature names, but StandardScaler was fitted without feature names\n",
      "  warnings.warn(\n"
     ]
    },
    {
     "name": "stdout",
     "output_type": "stream",
     "text": [
      "77957\n"
     ]
    },
    {
     "name": "stderr",
     "output_type": "stream",
     "text": [
      "/home/sliu/miniconda3/envs/mldl/lib/python3.11/site-packages/sklearn/base.py:486: UserWarning: X has feature names, but StandardScaler was fitted without feature names\n",
      "  warnings.warn(\n"
     ]
    },
    {
     "name": "stdout",
     "output_type": "stream",
     "text": [
      "55390\n"
     ]
    },
    {
     "name": "stderr",
     "output_type": "stream",
     "text": [
      "/home/sliu/miniconda3/envs/mldl/lib/python3.11/site-packages/sklearn/base.py:486: UserWarning: X has feature names, but StandardScaler was fitted without feature names\n",
      "  warnings.warn(\n"
     ]
    },
    {
     "name": "stdout",
     "output_type": "stream",
     "text": [
      "79560\n"
     ]
    },
    {
     "name": "stderr",
     "output_type": "stream",
     "text": [
      "/home/sliu/miniconda3/envs/mldl/lib/python3.11/site-packages/sklearn/base.py:486: UserWarning: X has feature names, but StandardScaler was fitted without feature names\n",
      "  warnings.warn(\n"
     ]
    },
    {
     "name": "stdout",
     "output_type": "stream",
     "text": [
      "42687\n"
     ]
    },
    {
     "name": "stderr",
     "output_type": "stream",
     "text": [
      "/home/sliu/miniconda3/envs/mldl/lib/python3.11/site-packages/sklearn/base.py:486: UserWarning: X has feature names, but StandardScaler was fitted without feature names\n",
      "  warnings.warn(\n"
     ]
    },
    {
     "name": "stdout",
     "output_type": "stream",
     "text": [
      "51469\n"
     ]
    },
    {
     "name": "stderr",
     "output_type": "stream",
     "text": [
      "/home/sliu/miniconda3/envs/mldl/lib/python3.11/site-packages/sklearn/base.py:486: UserWarning: X has feature names, but StandardScaler was fitted without feature names\n",
      "  warnings.warn(\n"
     ]
    },
    {
     "name": "stdout",
     "output_type": "stream",
     "text": [
      "28186\n"
     ]
    },
    {
     "name": "stderr",
     "output_type": "stream",
     "text": [
      "/home/sliu/miniconda3/envs/mldl/lib/python3.11/site-packages/sklearn/base.py:486: UserWarning: X has feature names, but StandardScaler was fitted without feature names\n",
      "  warnings.warn(\n"
     ]
    },
    {
     "name": "stdout",
     "output_type": "stream",
     "text": [
      "24427\n"
     ]
    },
    {
     "name": "stderr",
     "output_type": "stream",
     "text": [
      "/home/sliu/miniconda3/envs/mldl/lib/python3.11/site-packages/sklearn/base.py:486: UserWarning: X has feature names, but StandardScaler was fitted without feature names\n",
      "  warnings.warn(\n"
     ]
    },
    {
     "name": "stdout",
     "output_type": "stream",
     "text": [
      "15765\n"
     ]
    },
    {
     "name": "stderr",
     "output_type": "stream",
     "text": [
      "/home/sliu/miniconda3/envs/mldl/lib/python3.11/site-packages/sklearn/base.py:486: UserWarning: X has feature names, but StandardScaler was fitted without feature names\n",
      "  warnings.warn(\n"
     ]
    },
    {
     "name": "stdout",
     "output_type": "stream",
     "text": [
      "13172\n"
     ]
    },
    {
     "name": "stderr",
     "output_type": "stream",
     "text": [
      "/home/sliu/miniconda3/envs/mldl/lib/python3.11/site-packages/sklearn/base.py:486: UserWarning: X has feature names, but StandardScaler was fitted without feature names\n",
      "  warnings.warn(\n"
     ]
    },
    {
     "name": "stdout",
     "output_type": "stream",
     "text": [
      "3555\n"
     ]
    }
   ],
   "source": [
    "model = joblib.load('/home/sliu/cyp_related_coding/RF_CYP19/clean_code/pubchem_rdkit2D_maxfeatures_0.2_fullset.joblib')\n",
    "for i in range(1, 11):\n",
    "    input_file = f\"/data/db/chemicals/molport_FP_RDKIT2D/with_fp_2d_descip/Molport_preprocessed{i}_withdescrptorandfp.csv\"\n",
    "    output_file = f\"molport{i}_model7_screen.csv\"\n",
    "    \n",
    "    X_pre = pd.read_csv(input_file)\n",
    "    desc_cols = list(X_pre.iloc[:, 6:214].columns)\n",
    "    X_pre.dropna(subset=desc_cols,inplace=True)\n",
    "    X = X_pre[desc_cols]\n",
    "    \n",
    "    X_scaled = scaler.transform(X)\n",
    "    predictions_proba = model.predict_proba(X_scaled)[:, 1]\n",
    "    X_pre['Predicted_result'] = predictions_proba\n",
    "    predictions_proba.sort()\n",
    "    X_active = X_pre.loc[X_pre['Predicted_result']>= 0.5]\n",
    "    print(len(X_active))\n",
    "    X_active = X_active[['preprocessedSmiles', 'MOLPORTID', 'Predicted_result']]\n",
    "    X_active.to_csv(output_file, index=False)\n",
    "    "
   ]
  },
  {
   "cell_type": "code",
   "execution_count": 5,
   "metadata": {},
   "outputs": [
    {
     "name": "stderr",
     "output_type": "stream",
     "text": [
      "/home/sliu/miniconda3/envs/mldl/lib/python3.11/site-packages/sklearn/base.py:486: UserWarning: X has feature names, but StandardScaler was fitted without feature names\n",
      "  warnings.warn(\n"
     ]
    },
    {
     "name": "stdout",
     "output_type": "stream",
     "text": [
      "78507\n"
     ]
    },
    {
     "name": "stderr",
     "output_type": "stream",
     "text": [
      "/home/sliu/miniconda3/envs/mldl/lib/python3.11/site-packages/sklearn/base.py:486: UserWarning: X has feature names, but StandardScaler was fitted without feature names\n",
      "  warnings.warn(\n"
     ]
    },
    {
     "name": "stdout",
     "output_type": "stream",
     "text": [
      "81056\n"
     ]
    },
    {
     "name": "stderr",
     "output_type": "stream",
     "text": [
      "/home/sliu/miniconda3/envs/mldl/lib/python3.11/site-packages/sklearn/base.py:486: UserWarning: X has feature names, but StandardScaler was fitted without feature names\n",
      "  warnings.warn(\n"
     ]
    },
    {
     "name": "stdout",
     "output_type": "stream",
     "text": [
      "88779\n"
     ]
    },
    {
     "name": "stderr",
     "output_type": "stream",
     "text": [
      "/home/sliu/miniconda3/envs/mldl/lib/python3.11/site-packages/sklearn/base.py:486: UserWarning: X has feature names, but StandardScaler was fitted without feature names\n",
      "  warnings.warn(\n"
     ]
    },
    {
     "name": "stdout",
     "output_type": "stream",
     "text": [
      "69267\n"
     ]
    },
    {
     "name": "stderr",
     "output_type": "stream",
     "text": [
      "/home/sliu/miniconda3/envs/mldl/lib/python3.11/site-packages/sklearn/base.py:486: UserWarning: X has feature names, but StandardScaler was fitted without feature names\n",
      "  warnings.warn(\n"
     ]
    },
    {
     "name": "stdout",
     "output_type": "stream",
     "text": [
      "62037\n"
     ]
    },
    {
     "name": "stderr",
     "output_type": "stream",
     "text": [
      "/home/sliu/miniconda3/envs/mldl/lib/python3.11/site-packages/sklearn/base.py:486: UserWarning: X has feature names, but StandardScaler was fitted without feature names\n",
      "  warnings.warn(\n"
     ]
    },
    {
     "name": "stdout",
     "output_type": "stream",
     "text": [
      "73458\n"
     ]
    },
    {
     "name": "stderr",
     "output_type": "stream",
     "text": [
      "/home/sliu/miniconda3/envs/mldl/lib/python3.11/site-packages/sklearn/base.py:486: UserWarning: X has feature names, but StandardScaler was fitted without feature names\n",
      "  warnings.warn(\n"
     ]
    },
    {
     "name": "stdout",
     "output_type": "stream",
     "text": [
      "84481\n"
     ]
    },
    {
     "name": "stderr",
     "output_type": "stream",
     "text": [
      "/home/sliu/miniconda3/envs/mldl/lib/python3.11/site-packages/sklearn/base.py:486: UserWarning: X has feature names, but StandardScaler was fitted without feature names\n",
      "  warnings.warn(\n"
     ]
    },
    {
     "name": "stdout",
     "output_type": "stream",
     "text": [
      "77213\n"
     ]
    },
    {
     "name": "stderr",
     "output_type": "stream",
     "text": [
      "/home/sliu/miniconda3/envs/mldl/lib/python3.11/site-packages/sklearn/base.py:486: UserWarning: X has feature names, but StandardScaler was fitted without feature names\n",
      "  warnings.warn(\n"
     ]
    },
    {
     "name": "stdout",
     "output_type": "stream",
     "text": [
      "99075\n"
     ]
    },
    {
     "name": "stderr",
     "output_type": "stream",
     "text": [
      "/home/sliu/miniconda3/envs/mldl/lib/python3.11/site-packages/sklearn/base.py:486: UserWarning: X has feature names, but StandardScaler was fitted without feature names\n",
      "  warnings.warn(\n"
     ]
    },
    {
     "name": "stdout",
     "output_type": "stream",
     "text": [
      "21905\n"
     ]
    }
   ],
   "source": [
    "model = joblib.load('/home/sliu/cyp_related_coding/RF_CYP19/clean_code/chembl_rdkit2D_maxfeatures_0.8_fullset.joblib')\n",
    "for i in range(1, 11):\n",
    "    input_file = f\"/data/db/chemicals/molport_FP_RDKIT2D/with_fp_2d_descip/Molport_preprocessed{i}_withdescrptorandfp.csv\"\n",
    "    output_file = f\"molport{i}_model8_screen.csv\"\n",
    "    \n",
    "    X_pre = pd.read_csv(input_file)\n",
    "    desc_cols = list(X_pre.iloc[:, 6:214].columns)\n",
    "    X_pre.dropna(subset=desc_cols,inplace=True)\n",
    "    X = X_pre[desc_cols]\n",
    "    \n",
    "    X_scaled = scaler.transform(X)\n",
    "    predictions_proba = model.predict_proba(X_scaled)[:, 1]\n",
    "    X_pre['Predicted_result'] = predictions_proba\n",
    "    predictions_proba.sort()\n",
    "    X_active = X_pre.loc[X_pre['Predicted_result']>= 0.5]\n",
    "    print(len(X_active))\n",
    "    X_active = X_active[['preprocessedSmiles', 'MOLPORTID', 'Predicted_result']]\n",
    "    X_active.to_csv(output_file, index=False)"
   ]
  },
  {
   "cell_type": "code",
   "execution_count": 3,
   "metadata": {},
   "outputs": [
    {
     "name": "stdout",
     "output_type": "stream",
     "text": [
      "212613\n",
      "237040\n",
      "262376\n",
      "221530\n",
      "234472\n",
      "255181\n",
      "254107\n",
      "244017\n",
      "238000\n",
      "45724\n"
     ]
    }
   ],
   "source": [
    "for i in range(1, 11):\n",
    "    input_file = f\"/data/db/chemicals/molport_FP_RDKIT2D/with_fp_2d_descip/Molport_preprocessed{i}_withdescrptorandfp.csv\"\n",
    "    output_file = f\"molport{i}_model2_screen.csv\"\n",
    "    model = joblib.load('/home/sliu/cyp_related_coding/RF_CYP19/clean_code/chembl_rdkit2D_maxfeatures_0.8_fullset.joblib')\n",
    "    # need modifications\n",
    "    \n",
    "    X_pre = pd.read_csv(input_file)\n",
    "    desc_cols = list(X_pre.iloc[:, 6:214].columns)\n",
    "    X_pre.dropna(subset=desc_cols,inplace=True)\n",
    "    X = X_pre[desc_cols]\n",
    "    scaler = preprocessing.StandardScaler().fit(X)\n",
    "    X_scaled = scaler.transform(X)\n",
    "    predictions_proba = model.predict_proba(X_scaled)[:, 1]\n",
    "    X_pre['Predicted_result'] = predictions_proba\n",
    "    predictions_proba.sort()\n",
    "    X_active = X_pre.loc[X_pre['Predicted_result']>= 0.5]\n",
    "    print(len(X_active))\n",
    "    X_active = X_active[['preprocessedSmiles', 'MOLPORTID', 'Predicted_result']]\n",
    "    X_active.to_csv(output_file, index=False)\n",
    "    "
   ]
  },
  {
   "cell_type": "code",
   "execution_count": 6,
   "metadata": {},
   "outputs": [
    {
     "name": "stderr",
     "output_type": "stream",
     "text": [
      "/home/sliu/miniconda3/envs/mldl/lib/python3.11/site-packages/sklearn/base.py:486: UserWarning: X has feature names, but RandomForestClassifier was fitted without feature names\n",
      "  warnings.warn(\n"
     ]
    },
    {
     "name": "stdout",
     "output_type": "stream",
     "text": [
      "80419\n"
     ]
    },
    {
     "name": "stderr",
     "output_type": "stream",
     "text": [
      "/home/sliu/miniconda3/envs/mldl/lib/python3.11/site-packages/sklearn/base.py:486: UserWarning: X has feature names, but RandomForestClassifier was fitted without feature names\n",
      "  warnings.warn(\n"
     ]
    },
    {
     "name": "stdout",
     "output_type": "stream",
     "text": [
      "82893\n"
     ]
    },
    {
     "name": "stderr",
     "output_type": "stream",
     "text": [
      "/home/sliu/miniconda3/envs/mldl/lib/python3.11/site-packages/sklearn/base.py:486: UserWarning: X has feature names, but RandomForestClassifier was fitted without feature names\n",
      "  warnings.warn(\n"
     ]
    },
    {
     "name": "stdout",
     "output_type": "stream",
     "text": [
      "90569\n"
     ]
    },
    {
     "name": "stderr",
     "output_type": "stream",
     "text": [
      "/home/sliu/miniconda3/envs/mldl/lib/python3.11/site-packages/sklearn/base.py:486: UserWarning: X has feature names, but RandomForestClassifier was fitted without feature names\n",
      "  warnings.warn(\n"
     ]
    },
    {
     "name": "stdout",
     "output_type": "stream",
     "text": [
      "70085\n"
     ]
    },
    {
     "name": "stderr",
     "output_type": "stream",
     "text": [
      "/home/sliu/miniconda3/envs/mldl/lib/python3.11/site-packages/sklearn/base.py:486: UserWarning: X has feature names, but RandomForestClassifier was fitted without feature names\n",
      "  warnings.warn(\n"
     ]
    },
    {
     "name": "stdout",
     "output_type": "stream",
     "text": [
      "62721\n"
     ]
    },
    {
     "name": "stderr",
     "output_type": "stream",
     "text": [
      "/home/sliu/miniconda3/envs/mldl/lib/python3.11/site-packages/sklearn/base.py:486: UserWarning: X has feature names, but RandomForestClassifier was fitted without feature names\n",
      "  warnings.warn(\n"
     ]
    },
    {
     "name": "stdout",
     "output_type": "stream",
     "text": [
      "74182\n"
     ]
    },
    {
     "name": "stderr",
     "output_type": "stream",
     "text": [
      "/home/sliu/miniconda3/envs/mldl/lib/python3.11/site-packages/sklearn/base.py:486: UserWarning: X has feature names, but RandomForestClassifier was fitted without feature names\n",
      "  warnings.warn(\n"
     ]
    },
    {
     "name": "stdout",
     "output_type": "stream",
     "text": [
      "85496\n"
     ]
    },
    {
     "name": "stderr",
     "output_type": "stream",
     "text": [
      "/home/sliu/miniconda3/envs/mldl/lib/python3.11/site-packages/sklearn/base.py:486: UserWarning: X has feature names, but RandomForestClassifier was fitted without feature names\n",
      "  warnings.warn(\n"
     ]
    },
    {
     "name": "stdout",
     "output_type": "stream",
     "text": [
      "79822\n"
     ]
    },
    {
     "name": "stderr",
     "output_type": "stream",
     "text": [
      "/home/sliu/miniconda3/envs/mldl/lib/python3.11/site-packages/sklearn/base.py:486: UserWarning: X has feature names, but RandomForestClassifier was fitted without feature names\n",
      "  warnings.warn(\n"
     ]
    },
    {
     "name": "stdout",
     "output_type": "stream",
     "text": [
      "103325\n"
     ]
    },
    {
     "name": "stderr",
     "output_type": "stream",
     "text": [
      "/home/sliu/miniconda3/envs/mldl/lib/python3.11/site-packages/sklearn/base.py:486: UserWarning: X has feature names, but RandomForestClassifier was fitted without feature names\n",
      "  warnings.warn(\n"
     ]
    },
    {
     "name": "stdout",
     "output_type": "stream",
     "text": [
      "22519\n"
     ]
    }
   ],
   "source": [
    "for i in range(1, 11):\n",
    "    input_file = f\"/data/db/chemicals/molport_FP_RDKIT2D/with_fp_2d_descip/Molport_preprocessed{i}_withdescrptorandfp.csv\"\n",
    "    output_file = f\"molport{i}_model5_screen.csv\"\n",
    "    model = joblib.load('/home/sliu/cyp_related_coding/RF_CYP19/clean_code/chembl_rdkit2D_maxfeatures_0.8_fullset_noscaler.joblib')\n",
    "    # need modifications\n",
    "    \n",
    "    X_pre = pd.read_csv(input_file)\n",
    "    desc_cols = list(X_pre.iloc[:, 6:214].columns)\n",
    "    X_pre.dropna(subset=desc_cols,inplace=True)\n",
    "    X = X_pre[desc_cols]\n",
    "\n",
    "    predictions_proba = model.predict_proba(X)[:, 1]\n",
    "    X_pre['Predicted_result'] = predictions_proba\n",
    "    predictions_proba.sort()\n",
    "    X_active = X_pre.loc[X_pre['Predicted_result']>= 0.5]\n",
    "    print(len(X_active))\n",
    "    X_active = X_active[['preprocessedSmiles', 'MOLPORTID', 'Predicted_result']]\n",
    "    X_active.to_csv(output_file, index=False)"
   ]
  },
  {
   "cell_type": "code",
   "execution_count": 7,
   "metadata": {},
   "outputs": [
    {
     "name": "stderr",
     "output_type": "stream",
     "text": [
      "/home/sliu/miniconda3/envs/mldl/lib/python3.11/site-packages/sklearn/base.py:486: UserWarning: X has feature names, but RandomForestClassifier was fitted without feature names\n",
      "  warnings.warn(\n"
     ]
    },
    {
     "name": "stdout",
     "output_type": "stream",
     "text": [
      "16083\n"
     ]
    },
    {
     "name": "stderr",
     "output_type": "stream",
     "text": [
      "/home/sliu/miniconda3/envs/mldl/lib/python3.11/site-packages/sklearn/base.py:486: UserWarning: X has feature names, but RandomForestClassifier was fitted without feature names\n",
      "  warnings.warn(\n"
     ]
    },
    {
     "name": "stdout",
     "output_type": "stream",
     "text": [
      "10394\n"
     ]
    },
    {
     "name": "stderr",
     "output_type": "stream",
     "text": [
      "/home/sliu/miniconda3/envs/mldl/lib/python3.11/site-packages/sklearn/base.py:486: UserWarning: X has feature names, but RandomForestClassifier was fitted without feature names\n",
      "  warnings.warn(\n"
     ]
    },
    {
     "name": "stdout",
     "output_type": "stream",
     "text": [
      "26197\n"
     ]
    },
    {
     "name": "stderr",
     "output_type": "stream",
     "text": [
      "/home/sliu/miniconda3/envs/mldl/lib/python3.11/site-packages/sklearn/base.py:486: UserWarning: X has feature names, but RandomForestClassifier was fitted without feature names\n",
      "  warnings.warn(\n"
     ]
    },
    {
     "name": "stdout",
     "output_type": "stream",
     "text": [
      "8827\n"
     ]
    },
    {
     "name": "stderr",
     "output_type": "stream",
     "text": [
      "/home/sliu/miniconda3/envs/mldl/lib/python3.11/site-packages/sklearn/base.py:486: UserWarning: X has feature names, but RandomForestClassifier was fitted without feature names\n",
      "  warnings.warn(\n"
     ]
    },
    {
     "name": "stdout",
     "output_type": "stream",
     "text": [
      "15281\n"
     ]
    },
    {
     "name": "stderr",
     "output_type": "stream",
     "text": [
      "/home/sliu/miniconda3/envs/mldl/lib/python3.11/site-packages/sklearn/base.py:486: UserWarning: X has feature names, but RandomForestClassifier was fitted without feature names\n",
      "  warnings.warn(\n"
     ]
    },
    {
     "name": "stdout",
     "output_type": "stream",
     "text": [
      "8521\n"
     ]
    },
    {
     "name": "stderr",
     "output_type": "stream",
     "text": [
      "/home/sliu/miniconda3/envs/mldl/lib/python3.11/site-packages/sklearn/base.py:486: UserWarning: X has feature names, but RandomForestClassifier was fitted without feature names\n",
      "  warnings.warn(\n"
     ]
    },
    {
     "name": "stdout",
     "output_type": "stream",
     "text": [
      "5493\n"
     ]
    },
    {
     "name": "stderr",
     "output_type": "stream",
     "text": [
      "/home/sliu/miniconda3/envs/mldl/lib/python3.11/site-packages/sklearn/base.py:486: UserWarning: X has feature names, but RandomForestClassifier was fitted without feature names\n",
      "  warnings.warn(\n"
     ]
    },
    {
     "name": "stdout",
     "output_type": "stream",
     "text": [
      "2829\n"
     ]
    },
    {
     "name": "stderr",
     "output_type": "stream",
     "text": [
      "/home/sliu/miniconda3/envs/mldl/lib/python3.11/site-packages/sklearn/base.py:486: UserWarning: X has feature names, but RandomForestClassifier was fitted without feature names\n",
      "  warnings.warn(\n"
     ]
    },
    {
     "name": "stdout",
     "output_type": "stream",
     "text": [
      "3231\n"
     ]
    },
    {
     "name": "stderr",
     "output_type": "stream",
     "text": [
      "/home/sliu/miniconda3/envs/mldl/lib/python3.11/site-packages/sklearn/base.py:486: UserWarning: X has feature names, but RandomForestClassifier was fitted without feature names\n",
      "  warnings.warn(\n"
     ]
    },
    {
     "name": "stdout",
     "output_type": "stream",
     "text": [
      "774\n"
     ]
    }
   ],
   "source": [
    "for i in range(1, 11):\n",
    "    input_file = f\"/data/db/chemicals/molport_FP_RDKIT2D/with_fp_2d_descip/Molport_preprocessed{i}_withdescrptorandfp.csv\"\n",
    "    output_file = f\"molport{i}_model6_screen.csv\"\n",
    "    model = joblib.load('/home/sliu/cyp_related_coding/RF_CYP19/clean_code/pubchem_rdkit2D_maxfeatures_sqrt_noscaler_fullset.joblib')\n",
    "    # need modifications\n",
    "    \n",
    "    X_pre = pd.read_csv(input_file)\n",
    "    desc_cols = list(X_pre.iloc[:, 6:214].columns)\n",
    "    X_pre.dropna(subset=desc_cols,inplace=True)\n",
    "    X = X_pre[desc_cols]\n",
    "\n",
    "    predictions_proba = model.predict_proba(X)[:, 1]\n",
    "    X_pre['Predicted_result'] = predictions_proba\n",
    "    predictions_proba.sort()\n",
    "    X_active = X_pre.loc[X_pre['Predicted_result']>= 0.5]\n",
    "    print(len(X_active))\n",
    "    X_active = X_active[['preprocessedSmiles', 'MOLPORTID', 'Predicted_result']]\n",
    "    X_active.to_csv(output_file, index=False)"
   ]
  },
  {
   "attachments": {},
   "cell_type": "markdown",
   "metadata": {},
   "source": [
    "## Model with Morgan2 FP"
   ]
  },
  {
   "cell_type": "code",
   "execution_count": 9,
   "metadata": {},
   "outputs": [
    {
     "name": "stdout",
     "output_type": "stream",
     "text": [
      "40869\n",
      "35965\n",
      "48401\n",
      "49885\n",
      "48813\n",
      "44680\n",
      "49845\n",
      "45691\n",
      "50615\n",
      "12457\n"
     ]
    }
   ],
   "source": [
    "for i in range(1, 11):\n",
    "    input_file = f\"/data/db/chemicals/molport_FP_RDKIT2D/with_fp_2d_descip/Molport_preprocessed{i}_withdescrptorandfp.csv\"\n",
    "    output_file = f\"molport{i}_model1_screen.csv\"\n",
    "    model = joblib.load('/home/sliu/cyp_related_coding/RF_CYP19/clean_code/chembl_morgan2_maxfeatures_sqrt_fullset.joblib')\n",
    "    # need modifications\n",
    "\n",
    "    X_pre = pd.read_csv(input_file)\n",
    "    morgan2_cols = ['morgan2_b'+str(i) for i in list(range(2048))]\n",
    "    X = X_pre[morgan2_cols]\n",
    "    predictions_proba = model.predict_proba(X)[:, 1]\n",
    "    X_pre['Predicted_result'] = predictions_proba\n",
    "    predictions_proba.sort()\n",
    "    X_active = X_pre.loc[X_pre['Predicted_result']>= 0.5]\n",
    "    print(len(X_active))\n",
    "    X_active = X_active[['preprocessedSmiles', 'MOLPORTID', 'Predicted_result']]\n",
    "    X_active.to_csv(output_file, index=False)\n"
   ]
  },
  {
   "cell_type": "code",
   "execution_count": 4,
   "metadata": {},
   "outputs": [
    {
     "name": "stdout",
     "output_type": "stream",
     "text": [
      "30314\n",
      "34448\n",
      "37675\n",
      "17212\n",
      "11313\n",
      "13443\n",
      "14001\n",
      "11533\n",
      "11670\n",
      "3831\n"
     ]
    }
   ],
   "source": [
    "for i in range(1, 11):\n",
    "    input_file = f\"/data/db/chemicals/molport_FP_RDKIT2D/with_fp_2d_descip/Molport_preprocessed{i}_withdescrptorandfp.csv\"\n",
    "    output_file = f\"molport{i}_model3_screen.csv\"\n",
    "    model = joblib.load('/home/sliu/cyp_related_coding/RF_CYP19/clean_code/pubchem_morgan2_maxfeatures_sqrt_fullset.joblib')\n",
    "    # need modifications\n",
    "\n",
    "    X_pre = pd.read_csv(input_file)\n",
    "    morgan2_cols = ['morgan2_b'+str(i) for i in list(range(2048))]\n",
    "    X = X_pre[morgan2_cols]\n",
    "    predictions_proba = model.predict_proba(X)[:, 1]\n",
    "    X_pre['Predicted_result'] = predictions_proba\n",
    "    predictions_proba.sort()\n",
    "    X_active = X_pre.loc[X_pre['Predicted_result']>= 0.3]\n",
    "    print(len(X_active))\n",
    "    X_active = X_active[['preprocessedSmiles', 'MOLPORTID', 'Predicted_result']]\n",
    "    X_active.to_csv(output_file, index=False)"
   ]
  }
 ],
 "metadata": {
  "kernelspec": {
   "display_name": "Python 3",
   "language": "python",
   "name": "python3"
  },
  "language_info": {
   "codemirror_mode": {
    "name": "ipython",
    "version": 3
   },
   "file_extension": ".py",
   "mimetype": "text/x-python",
   "name": "python",
   "nbconvert_exporter": "python",
   "pygments_lexer": "ipython3",
   "version": "3.11.0"
  },
  "orig_nbformat": 4
 },
 "nbformat": 4,
 "nbformat_minor": 2
}
