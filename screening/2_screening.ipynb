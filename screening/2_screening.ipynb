{
 "cells": [
  {
   "cell_type": "code",
   "execution_count": 1,
   "metadata": {},
   "outputs": [],
   "source": [
    "import pandas as pd\n",
    "import sklearn\n",
    "from sklearn import preprocessing\n",
    "import joblib\n",
    "import numpy as np"
   ]
  },
  {
   "attachments": {},
   "cell_type": "markdown",
   "metadata": {},
   "source": [
    "## model with rdkit 2d descriptor"
   ]
  },
  {
   "cell_type": "code",
   "execution_count": 2,
   "metadata": {},
   "outputs": [
    {
     "name": "stderr",
     "output_type": "stream",
     "text": [
      "/home/sliu/miniconda3/envs/cypscreen/lib/python3.8/site-packages/sklearn/base.py:458: UserWarning: X has feature names, but RandomForestClassifier was fitted without feature names\n",
      "  warnings.warn(\n"
     ]
    },
    {
     "name": "stdout",
     "output_type": "stream",
     "text": [
      "17796\n"
     ]
    },
    {
     "name": "stderr",
     "output_type": "stream",
     "text": [
      "/home/sliu/miniconda3/envs/cypscreen/lib/python3.8/site-packages/sklearn/base.py:458: UserWarning: X has feature names, but RandomForestClassifier was fitted without feature names\n",
      "  warnings.warn(\n"
     ]
    },
    {
     "name": "stdout",
     "output_type": "stream",
     "text": [
      "16304\n"
     ]
    },
    {
     "name": "stderr",
     "output_type": "stream",
     "text": [
      "/home/sliu/miniconda3/envs/cypscreen/lib/python3.8/site-packages/sklearn/base.py:458: UserWarning: X has feature names, but RandomForestClassifier was fitted without feature names\n",
      "  warnings.warn(\n"
     ]
    },
    {
     "name": "stdout",
     "output_type": "stream",
     "text": [
      "20220\n"
     ]
    },
    {
     "name": "stderr",
     "output_type": "stream",
     "text": [
      "/home/sliu/miniconda3/envs/cypscreen/lib/python3.8/site-packages/sklearn/base.py:458: UserWarning: X has feature names, but RandomForestClassifier was fitted without feature names\n",
      "  warnings.warn(\n"
     ]
    },
    {
     "name": "stdout",
     "output_type": "stream",
     "text": [
      "21358\n"
     ]
    },
    {
     "name": "stderr",
     "output_type": "stream",
     "text": [
      "/home/sliu/miniconda3/envs/cypscreen/lib/python3.8/site-packages/sklearn/base.py:458: UserWarning: X has feature names, but RandomForestClassifier was fitted without feature names\n",
      "  warnings.warn(\n"
     ]
    },
    {
     "name": "stdout",
     "output_type": "stream",
     "text": [
      "13122\n"
     ]
    },
    {
     "name": "stderr",
     "output_type": "stream",
     "text": [
      "/home/sliu/miniconda3/envs/cypscreen/lib/python3.8/site-packages/sklearn/base.py:458: UserWarning: X has feature names, but RandomForestClassifier was fitted without feature names\n",
      "  warnings.warn(\n"
     ]
    },
    {
     "name": "stdout",
     "output_type": "stream",
     "text": [
      "24785\n"
     ]
    },
    {
     "name": "stderr",
     "output_type": "stream",
     "text": [
      "/home/sliu/miniconda3/envs/cypscreen/lib/python3.8/site-packages/sklearn/base.py:458: UserWarning: X has feature names, but RandomForestClassifier was fitted without feature names\n",
      "  warnings.warn(\n"
     ]
    },
    {
     "name": "stdout",
     "output_type": "stream",
     "text": [
      "43955\n"
     ]
    },
    {
     "name": "stderr",
     "output_type": "stream",
     "text": [
      "/home/sliu/miniconda3/envs/cypscreen/lib/python3.8/site-packages/sklearn/base.py:458: UserWarning: X has feature names, but RandomForestClassifier was fitted without feature names\n",
      "  warnings.warn(\n"
     ]
    },
    {
     "name": "stdout",
     "output_type": "stream",
     "text": [
      "36714\n"
     ]
    },
    {
     "name": "stderr",
     "output_type": "stream",
     "text": [
      "/home/sliu/miniconda3/envs/cypscreen/lib/python3.8/site-packages/sklearn/base.py:458: UserWarning: X has feature names, but RandomForestClassifier was fitted without feature names\n",
      "  warnings.warn(\n"
     ]
    },
    {
     "name": "stdout",
     "output_type": "stream",
     "text": [
      "40160\n"
     ]
    },
    {
     "name": "stderr",
     "output_type": "stream",
     "text": [
      "/home/sliu/miniconda3/envs/cypscreen/lib/python3.8/site-packages/sklearn/base.py:458: UserWarning: X has feature names, but RandomForestClassifier was fitted without feature names\n",
      "  warnings.warn(\n"
     ]
    },
    {
     "name": "stdout",
     "output_type": "stream",
     "text": [
      "8827\n"
     ]
    }
   ],
   "source": [
    "for i in range(1, 11):\n",
    "    input_file = f\"/data/db/chemicals/molport_FP_RDKIT2D/with_fp_2d_descip/Molport_preprocessed{i}_ro5_substructure_2dfp.csv\"\n",
    "    output_file = f\"molport{i}_model5_screen.csv\"\n",
    "    model = joblib.load('/home/sliu/cyp_related_coding/CYP19_inhibitor_screening/trained_models/chembl_rdkit2D_smote_fullset.joblib')\n",
    "    # need modifications\n",
    "    \n",
    "    X_pre = pd.read_csv(input_file)\n",
    "    desc_cols = list(X_pre.iloc[:, 6:214].columns)\n",
    "    X_pre.dropna(subset=desc_cols,inplace=True)\n",
    "    X = X_pre[desc_cols]\n",
    "    predictions_proba = model.predict_proba(X)[:, 1]\n",
    "    X_pre['Predicted_result'] = predictions_proba\n",
    "    predictions_proba.sort()\n",
    "    X_active = X_pre.loc[X_pre['Predicted_result']>= 0.5]\n",
    "    print(len(X_active))\n",
    "    X_active = X_active[['preprocessedSmiles', 'MOLPORTID', 'Predicted_result']]\n",
    "    X_active.to_csv(output_file, index=False)\n",
    "    "
   ]
  },
  {
   "cell_type": "code",
   "execution_count": null,
   "metadata": {},
   "outputs": [],
   "source": []
  },
  {
   "cell_type": "code",
   "execution_count": 2,
   "metadata": {},
   "outputs": [
    {
     "name": "stderr",
     "output_type": "stream",
     "text": [
      "/home/sliu/miniconda3/envs/cypscreen/lib/python3.8/site-packages/sklearn/base.py:458: UserWarning: X has feature names, but RandomForestClassifier was fitted without feature names\n",
      "  warnings.warn(\n"
     ]
    },
    {
     "name": "stdout",
     "output_type": "stream",
     "text": [
      "27208\n"
     ]
    },
    {
     "name": "stderr",
     "output_type": "stream",
     "text": [
      "/home/sliu/miniconda3/envs/cypscreen/lib/python3.8/site-packages/sklearn/base.py:458: UserWarning: X has feature names, but RandomForestClassifier was fitted without feature names\n",
      "  warnings.warn(\n"
     ]
    },
    {
     "name": "stdout",
     "output_type": "stream",
     "text": [
      "26332\n"
     ]
    },
    {
     "name": "stderr",
     "output_type": "stream",
     "text": [
      "/home/sliu/miniconda3/envs/cypscreen/lib/python3.8/site-packages/sklearn/base.py:458: UserWarning: X has feature names, but RandomForestClassifier was fitted without feature names\n",
      "  warnings.warn(\n"
     ]
    },
    {
     "name": "stdout",
     "output_type": "stream",
     "text": [
      "29080\n"
     ]
    },
    {
     "name": "stderr",
     "output_type": "stream",
     "text": [
      "/home/sliu/miniconda3/envs/cypscreen/lib/python3.8/site-packages/sklearn/base.py:458: UserWarning: X has feature names, but RandomForestClassifier was fitted without feature names\n",
      "  warnings.warn(\n"
     ]
    },
    {
     "name": "stdout",
     "output_type": "stream",
     "text": [
      "33653\n"
     ]
    },
    {
     "name": "stderr",
     "output_type": "stream",
     "text": [
      "/home/sliu/miniconda3/envs/cypscreen/lib/python3.8/site-packages/sklearn/base.py:458: UserWarning: X has feature names, but RandomForestClassifier was fitted without feature names\n",
      "  warnings.warn(\n"
     ]
    },
    {
     "name": "stdout",
     "output_type": "stream",
     "text": [
      "19655\n"
     ]
    },
    {
     "name": "stderr",
     "output_type": "stream",
     "text": [
      "/home/sliu/miniconda3/envs/cypscreen/lib/python3.8/site-packages/sklearn/base.py:458: UserWarning: X has feature names, but RandomForestClassifier was fitted without feature names\n",
      "  warnings.warn(\n"
     ]
    },
    {
     "name": "stdout",
     "output_type": "stream",
     "text": [
      "38629\n"
     ]
    },
    {
     "name": "stderr",
     "output_type": "stream",
     "text": [
      "/home/sliu/miniconda3/envs/cypscreen/lib/python3.8/site-packages/sklearn/base.py:458: UserWarning: X has feature names, but RandomForestClassifier was fitted without feature names\n",
      "  warnings.warn(\n"
     ]
    },
    {
     "name": "stdout",
     "output_type": "stream",
     "text": [
      "59235\n"
     ]
    },
    {
     "name": "stderr",
     "output_type": "stream",
     "text": [
      "/home/sliu/miniconda3/envs/cypscreen/lib/python3.8/site-packages/sklearn/base.py:458: UserWarning: X has feature names, but RandomForestClassifier was fitted without feature names\n",
      "  warnings.warn(\n"
     ]
    },
    {
     "name": "stdout",
     "output_type": "stream",
     "text": [
      "54344\n"
     ]
    },
    {
     "name": "stderr",
     "output_type": "stream",
     "text": [
      "/home/sliu/miniconda3/envs/cypscreen/lib/python3.8/site-packages/sklearn/base.py:458: UserWarning: X has feature names, but RandomForestClassifier was fitted without feature names\n",
      "  warnings.warn(\n"
     ]
    },
    {
     "name": "stdout",
     "output_type": "stream",
     "text": [
      "70797\n"
     ]
    },
    {
     "name": "stderr",
     "output_type": "stream",
     "text": [
      "/home/sliu/miniconda3/envs/cypscreen/lib/python3.8/site-packages/sklearn/base.py:458: UserWarning: X has feature names, but RandomForestClassifier was fitted without feature names\n",
      "  warnings.warn(\n"
     ]
    },
    {
     "name": "stdout",
     "output_type": "stream",
     "text": [
      "16075\n"
     ]
    }
   ],
   "source": [
    "for i in range(1, 11):\n",
    "    input_file = f\"/data/db/chemicals/molport_FP_RDKIT2D/with_fp_2d_descip/Molport_preprocessed{i}_ro5_substructure_2dfp.csv\"\n",
    "    output_file = f\"molport{i}_model2_screen.csv\"\n",
    "    model = joblib.load('/home/sliu/cyp_related_coding/CYP19_inhibitor_screening/trained_models/chembl_rdkit2D_fullset.joblib')\n",
    "    # need modifications\n",
    "    \n",
    "    X_pre = pd.read_csv(input_file)\n",
    "    desc_cols = list(X_pre.iloc[:, 6:214].columns)\n",
    "    X_pre.dropna(subset=desc_cols,inplace=True)\n",
    "    X = X_pre[desc_cols]\n",
    "    predictions_proba = model.predict_proba(X)[:, 1]\n",
    "    X_pre['Predicted_result'] = predictions_proba\n",
    "    predictions_proba.sort()\n",
    "    X_active = X_pre.loc[X_pre['Predicted_result']>= 0.5]\n",
    "    print(len(X_active))\n",
    "    X_active = X_active[['preprocessedSmiles', 'MOLPORTID', 'Predicted_result']]\n",
    "    X_active.to_csv(output_file, index=False)\n",
    "    "
   ]
  },
  {
   "cell_type": "code",
   "execution_count": 3,
   "metadata": {},
   "outputs": [
    {
     "name": "stderr",
     "output_type": "stream",
     "text": [
      "/home/sliu/miniconda3/envs/cypscreen/lib/python3.8/site-packages/sklearn/base.py:458: UserWarning: X has feature names, but RandomForestClassifier was fitted without feature names\n",
      "  warnings.warn(\n"
     ]
    },
    {
     "name": "stdout",
     "output_type": "stream",
     "text": [
      "2651\n"
     ]
    },
    {
     "name": "stderr",
     "output_type": "stream",
     "text": [
      "/home/sliu/miniconda3/envs/cypscreen/lib/python3.8/site-packages/sklearn/base.py:458: UserWarning: X has feature names, but RandomForestClassifier was fitted without feature names\n",
      "  warnings.warn(\n"
     ]
    },
    {
     "name": "stdout",
     "output_type": "stream",
     "text": [
      "2259\n"
     ]
    },
    {
     "name": "stderr",
     "output_type": "stream",
     "text": [
      "/home/sliu/miniconda3/envs/cypscreen/lib/python3.8/site-packages/sklearn/base.py:458: UserWarning: X has feature names, but RandomForestClassifier was fitted without feature names\n",
      "  warnings.warn(\n"
     ]
    },
    {
     "name": "stdout",
     "output_type": "stream",
     "text": [
      "3770\n"
     ]
    },
    {
     "name": "stderr",
     "output_type": "stream",
     "text": [
      "/home/sliu/miniconda3/envs/cypscreen/lib/python3.8/site-packages/sklearn/base.py:458: UserWarning: X has feature names, but RandomForestClassifier was fitted without feature names\n",
      "  warnings.warn(\n"
     ]
    },
    {
     "name": "stdout",
     "output_type": "stream",
     "text": [
      "2003\n"
     ]
    },
    {
     "name": "stderr",
     "output_type": "stream",
     "text": [
      "/home/sliu/miniconda3/envs/cypscreen/lib/python3.8/site-packages/sklearn/base.py:458: UserWarning: X has feature names, but RandomForestClassifier was fitted without feature names\n",
      "  warnings.warn(\n"
     ]
    },
    {
     "name": "stdout",
     "output_type": "stream",
     "text": [
      "1857\n"
     ]
    },
    {
     "name": "stderr",
     "output_type": "stream",
     "text": [
      "/home/sliu/miniconda3/envs/cypscreen/lib/python3.8/site-packages/sklearn/base.py:458: UserWarning: X has feature names, but RandomForestClassifier was fitted without feature names\n",
      "  warnings.warn(\n"
     ]
    },
    {
     "name": "stdout",
     "output_type": "stream",
     "text": [
      "2100\n"
     ]
    },
    {
     "name": "stderr",
     "output_type": "stream",
     "text": [
      "/home/sliu/miniconda3/envs/cypscreen/lib/python3.8/site-packages/sklearn/base.py:458: UserWarning: X has feature names, but RandomForestClassifier was fitted without feature names\n",
      "  warnings.warn(\n"
     ]
    },
    {
     "name": "stdout",
     "output_type": "stream",
     "text": [
      "1947\n"
     ]
    },
    {
     "name": "stderr",
     "output_type": "stream",
     "text": [
      "/home/sliu/miniconda3/envs/cypscreen/lib/python3.8/site-packages/sklearn/base.py:458: UserWarning: X has feature names, but RandomForestClassifier was fitted without feature names\n",
      "  warnings.warn(\n"
     ]
    },
    {
     "name": "stdout",
     "output_type": "stream",
     "text": [
      "1239\n"
     ]
    },
    {
     "name": "stderr",
     "output_type": "stream",
     "text": [
      "/home/sliu/miniconda3/envs/cypscreen/lib/python3.8/site-packages/sklearn/base.py:458: UserWarning: X has feature names, but RandomForestClassifier was fitted without feature names\n",
      "  warnings.warn(\n"
     ]
    },
    {
     "name": "stdout",
     "output_type": "stream",
     "text": [
      "1513\n"
     ]
    },
    {
     "name": "stderr",
     "output_type": "stream",
     "text": [
      "/home/sliu/miniconda3/envs/cypscreen/lib/python3.8/site-packages/sklearn/base.py:458: UserWarning: X has feature names, but RandomForestClassifier was fitted without feature names\n",
      "  warnings.warn(\n"
     ]
    },
    {
     "name": "stdout",
     "output_type": "stream",
     "text": [
      "520\n"
     ]
    }
   ],
   "source": [
    "for i in range(1, 11):\n",
    "    input_file = f\"/data/db/chemicals/molport_FP_RDKIT2D/with_fp_2d_descip/Molport_preprocessed{i}_ro5_substructure_2dfp.csv\"\n",
    "    output_file = f\"molport{i}_model4_screen.csv\"\n",
    "    model = joblib.load('/home/sliu/cyp_related_coding/CYP19_inhibitor_screening/trained_models/pubchem_rdkit2D_fullset.joblib')\n",
    "    # need modifications\n",
    "    \n",
    "    X_pre = pd.read_csv(input_file)\n",
    "    desc_cols = list(X_pre.iloc[:, 6:214].columns)\n",
    "    X_pre.dropna(subset=desc_cols,inplace=True)\n",
    "    X = X_pre[desc_cols]\n",
    "\n",
    "    predictions_proba = model.predict_proba(X)[:, 1]\n",
    "    X_pre['Predicted_result'] = predictions_proba\n",
    "    predictions_proba.sort()\n",
    "    X_active = X_pre.loc[X_pre['Predicted_result']>= 0.5]\n",
    "    print(len(X_active))\n",
    "    X_active = X_active[['preprocessedSmiles', 'MOLPORTID', 'Predicted_result']]\n",
    "    X_active.to_csv(output_file, index=False)"
   ]
  },
  {
   "attachments": {},
   "cell_type": "markdown",
   "metadata": {},
   "source": [
    "## Model with Morgan2 FP"
   ]
  },
  {
   "cell_type": "code",
   "execution_count": 4,
   "metadata": {},
   "outputs": [
    {
     "name": "stderr",
     "output_type": "stream",
     "text": [
      "/home/sliu/miniconda3/envs/cypscreen/lib/python3.8/site-packages/sklearn/base.py:458: UserWarning: X has feature names, but RandomForestClassifier was fitted without feature names\n",
      "  warnings.warn(\n"
     ]
    },
    {
     "name": "stdout",
     "output_type": "stream",
     "text": [
      "18235\n"
     ]
    },
    {
     "name": "stderr",
     "output_type": "stream",
     "text": [
      "/home/sliu/miniconda3/envs/cypscreen/lib/python3.8/site-packages/sklearn/base.py:458: UserWarning: X has feature names, but RandomForestClassifier was fitted without feature names\n",
      "  warnings.warn(\n"
     ]
    },
    {
     "name": "stdout",
     "output_type": "stream",
     "text": [
      "14533\n"
     ]
    },
    {
     "name": "stderr",
     "output_type": "stream",
     "text": [
      "/home/sliu/miniconda3/envs/cypscreen/lib/python3.8/site-packages/sklearn/base.py:458: UserWarning: X has feature names, but RandomForestClassifier was fitted without feature names\n",
      "  warnings.warn(\n"
     ]
    },
    {
     "name": "stdout",
     "output_type": "stream",
     "text": [
      "21323\n"
     ]
    },
    {
     "name": "stderr",
     "output_type": "stream",
     "text": [
      "/home/sliu/miniconda3/envs/cypscreen/lib/python3.8/site-packages/sklearn/base.py:458: UserWarning: X has feature names, but RandomForestClassifier was fitted without feature names\n",
      "  warnings.warn(\n"
     ]
    },
    {
     "name": "stdout",
     "output_type": "stream",
     "text": [
      "31968\n"
     ]
    },
    {
     "name": "stderr",
     "output_type": "stream",
     "text": [
      "/home/sliu/miniconda3/envs/cypscreen/lib/python3.8/site-packages/sklearn/base.py:458: UserWarning: X has feature names, but RandomForestClassifier was fitted without feature names\n",
      "  warnings.warn(\n"
     ]
    },
    {
     "name": "stdout",
     "output_type": "stream",
     "text": [
      "17461\n"
     ]
    },
    {
     "name": "stderr",
     "output_type": "stream",
     "text": [
      "/home/sliu/miniconda3/envs/cypscreen/lib/python3.8/site-packages/sklearn/base.py:458: UserWarning: X has feature names, but RandomForestClassifier was fitted without feature names\n",
      "  warnings.warn(\n"
     ]
    },
    {
     "name": "stdout",
     "output_type": "stream",
     "text": [
      "32761\n"
     ]
    },
    {
     "name": "stderr",
     "output_type": "stream",
     "text": [
      "/home/sliu/miniconda3/envs/cypscreen/lib/python3.8/site-packages/sklearn/base.py:458: UserWarning: X has feature names, but RandomForestClassifier was fitted without feature names\n",
      "  warnings.warn(\n"
     ]
    },
    {
     "name": "stdout",
     "output_type": "stream",
     "text": [
      "50884\n"
     ]
    },
    {
     "name": "stderr",
     "output_type": "stream",
     "text": [
      "/home/sliu/miniconda3/envs/cypscreen/lib/python3.8/site-packages/sklearn/base.py:458: UserWarning: X has feature names, but RandomForestClassifier was fitted without feature names\n",
      "  warnings.warn(\n"
     ]
    },
    {
     "name": "stdout",
     "output_type": "stream",
     "text": [
      "49358\n"
     ]
    },
    {
     "name": "stderr",
     "output_type": "stream",
     "text": [
      "/home/sliu/miniconda3/envs/cypscreen/lib/python3.8/site-packages/sklearn/base.py:458: UserWarning: X has feature names, but RandomForestClassifier was fitted without feature names\n",
      "  warnings.warn(\n"
     ]
    },
    {
     "name": "stdout",
     "output_type": "stream",
     "text": [
      "50370\n"
     ]
    },
    {
     "name": "stderr",
     "output_type": "stream",
     "text": [
      "/home/sliu/miniconda3/envs/cypscreen/lib/python3.8/site-packages/sklearn/base.py:458: UserWarning: X has feature names, but RandomForestClassifier was fitted without feature names\n",
      "  warnings.warn(\n"
     ]
    },
    {
     "name": "stdout",
     "output_type": "stream",
     "text": [
      "12548\n"
     ]
    }
   ],
   "source": [
    "for i in range(1, 11):\n",
    "    input_file = f\"/data/db/chemicals/molport_FP_RDKIT2D/with_fp_2d_descip/Molport_preprocessed{i}_ro5_substructure_2dfp.csv\"\n",
    "    output_file = f\"molport{i}_model6_screen.csv\"\n",
    "    model = joblib.load('/home/sliu/cyp_related_coding/CYP19_inhibitor_screening/trained_models/chembl_morgan2_smote_fullset.joblib')\n",
    "    # need modifications\n",
    "\n",
    "    X_pre = pd.read_csv(input_file)\n",
    "    morgan2_cols = ['morgan2_b'+str(i) for i in list(range(2048))]\n",
    "    X = X_pre[morgan2_cols]\n",
    "    predictions_proba = model.predict_proba(X)[:, 1]\n",
    "    X_pre['Predicted_result'] = predictions_proba\n",
    "    predictions_proba.sort()\n",
    "    X_active = X_pre.loc[X_pre['Predicted_result']>= 0.5]\n",
    "    print(len(X_active))\n",
    "    X_active = X_active[['preprocessedSmiles', 'MOLPORTID', 'Predicted_result']]\n",
    "    X_active.to_csv(output_file, index=False)"
   ]
  },
  {
   "cell_type": "code",
   "execution_count": 4,
   "metadata": {},
   "outputs": [
    {
     "name": "stdout",
     "output_type": "stream",
     "text": [
      "23343\n",
      "19903\n",
      "25334\n",
      "37894\n",
      "21167\n",
      "36700\n",
      "56030\n",
      "53158\n",
      "58270\n",
      "14748\n"
     ]
    }
   ],
   "source": [
    "for i in range(1, 11):\n",
    "    input_file = f\"/data/db/chemicals/molport_FP_RDKIT2D/with_fp_2d_descip/Molport_preprocessed{i}_ro5_substructure_2dfp.csv\"\n",
    "    output_file = f\"molport{i}_model1_screen.csv\"\n",
    "    model = joblib.load('/home/sliu/cyp_related_coding/CYP19_inhibitor_screening/trained_models/chembl_morgan2_fullset.joblib')\n",
    "    # need modifications\n",
    "\n",
    "    X_pre = pd.read_csv(input_file)\n",
    "    morgan2_cols = ['morgan2_b'+str(i) for i in list(range(2048))]\n",
    "    X = X_pre[morgan2_cols]\n",
    "    predictions_proba = model.predict_proba(X)[:, 1]\n",
    "    X_pre['Predicted_result'] = predictions_proba\n",
    "    predictions_proba.sort()\n",
    "    X_active = X_pre.loc[X_pre['Predicted_result']>= 0.5]\n",
    "    print(len(X_active))\n",
    "    X_active = X_active[['preprocessedSmiles', 'MOLPORTID', 'Predicted_result']]\n",
    "    X_active.to_csv(output_file, index=False)\n"
   ]
  },
  {
   "cell_type": "code",
   "execution_count": 5,
   "metadata": {},
   "outputs": [
    {
     "name": "stderr",
     "output_type": "stream",
     "text": [
      "/home/sliu/miniconda3/envs/cypscreen/lib/python3.8/site-packages/sklearn/base.py:458: UserWarning: X has feature names, but RandomForestClassifier was fitted without feature names\n",
      "  warnings.warn(\n"
     ]
    },
    {
     "name": "stdout",
     "output_type": "stream",
     "text": [
      "485\n"
     ]
    },
    {
     "name": "stderr",
     "output_type": "stream",
     "text": [
      "/home/sliu/miniconda3/envs/cypscreen/lib/python3.8/site-packages/sklearn/base.py:458: UserWarning: X has feature names, but RandomForestClassifier was fitted without feature names\n",
      "  warnings.warn(\n"
     ]
    },
    {
     "name": "stdout",
     "output_type": "stream",
     "text": [
      "540\n"
     ]
    },
    {
     "name": "stderr",
     "output_type": "stream",
     "text": [
      "/home/sliu/miniconda3/envs/cypscreen/lib/python3.8/site-packages/sklearn/base.py:458: UserWarning: X has feature names, but RandomForestClassifier was fitted without feature names\n",
      "  warnings.warn(\n"
     ]
    },
    {
     "name": "stdout",
     "output_type": "stream",
     "text": [
      "708\n"
     ]
    },
    {
     "name": "stderr",
     "output_type": "stream",
     "text": [
      "/home/sliu/miniconda3/envs/cypscreen/lib/python3.8/site-packages/sklearn/base.py:458: UserWarning: X has feature names, but RandomForestClassifier was fitted without feature names\n",
      "  warnings.warn(\n"
     ]
    },
    {
     "name": "stdout",
     "output_type": "stream",
     "text": [
      "414\n"
     ]
    },
    {
     "name": "stderr",
     "output_type": "stream",
     "text": [
      "/home/sliu/miniconda3/envs/cypscreen/lib/python3.8/site-packages/sklearn/base.py:458: UserWarning: X has feature names, but RandomForestClassifier was fitted without feature names\n",
      "  warnings.warn(\n"
     ]
    },
    {
     "name": "stdout",
     "output_type": "stream",
     "text": [
      "138\n"
     ]
    },
    {
     "name": "stderr",
     "output_type": "stream",
     "text": [
      "/home/sliu/miniconda3/envs/cypscreen/lib/python3.8/site-packages/sklearn/base.py:458: UserWarning: X has feature names, but RandomForestClassifier was fitted without feature names\n",
      "  warnings.warn(\n"
     ]
    },
    {
     "name": "stdout",
     "output_type": "stream",
     "text": [
      "263\n"
     ]
    },
    {
     "name": "stderr",
     "output_type": "stream",
     "text": [
      "/home/sliu/miniconda3/envs/cypscreen/lib/python3.8/site-packages/sklearn/base.py:458: UserWarning: X has feature names, but RandomForestClassifier was fitted without feature names\n",
      "  warnings.warn(\n"
     ]
    },
    {
     "name": "stdout",
     "output_type": "stream",
     "text": [
      "518\n"
     ]
    },
    {
     "name": "stderr",
     "output_type": "stream",
     "text": [
      "/home/sliu/miniconda3/envs/cypscreen/lib/python3.8/site-packages/sklearn/base.py:458: UserWarning: X has feature names, but RandomForestClassifier was fitted without feature names\n",
      "  warnings.warn(\n"
     ]
    },
    {
     "name": "stdout",
     "output_type": "stream",
     "text": [
      "311\n"
     ]
    },
    {
     "name": "stderr",
     "output_type": "stream",
     "text": [
      "/home/sliu/miniconda3/envs/cypscreen/lib/python3.8/site-packages/sklearn/base.py:458: UserWarning: X has feature names, but RandomForestClassifier was fitted without feature names\n",
      "  warnings.warn(\n"
     ]
    },
    {
     "name": "stdout",
     "output_type": "stream",
     "text": [
      "322\n"
     ]
    },
    {
     "name": "stderr",
     "output_type": "stream",
     "text": [
      "/home/sliu/miniconda3/envs/cypscreen/lib/python3.8/site-packages/sklearn/base.py:458: UserWarning: X has feature names, but RandomForestClassifier was fitted without feature names\n",
      "  warnings.warn(\n"
     ]
    },
    {
     "name": "stdout",
     "output_type": "stream",
     "text": [
      "76\n"
     ]
    }
   ],
   "source": [
    "for i in range(1, 11):\n",
    "    input_file = f\"/data/db/chemicals/molport_FP_RDKIT2D/with_fp_2d_descip/Molport_preprocessed{i}_ro5_substructure_2dfp.csv\"\n",
    "    output_file = f\"molport{i}_model3_screen.csv\"\n",
    "    model = joblib.load('/home/sliu/cyp_related_coding/CYP19_inhibitor_screening/trained_models/pubchem_morgan2_fullset.joblib')\n",
    "    # need modifications\n",
    "\n",
    "    X_pre = pd.read_csv(input_file)\n",
    "    morgan2_cols = ['morgan2_b'+str(i) for i in list(range(2048))]\n",
    "    X = X_pre[morgan2_cols]\n",
    "    predictions_proba = model.predict_proba(X)[:, 1]\n",
    "    X_pre['Predicted_result'] = predictions_proba\n",
    "    predictions_proba.sort()\n",
    "    X_active = X_pre.loc[X_pre['Predicted_result']>= 0.5]\n",
    "    print(len(X_active))\n",
    "    X_active = X_active[['preprocessedSmiles', 'MOLPORTID', 'Predicted_result']]\n",
    "    X_active.to_csv(output_file, index=False)"
   ]
  }
 ],
 "metadata": {
  "kernelspec": {
   "display_name": "Python 3",
   "language": "python",
   "name": "python3"
  },
  "language_info": {
   "codemirror_mode": {
    "name": "ipython",
    "version": 3
   },
   "file_extension": ".py",
   "mimetype": "text/x-python",
   "name": "python",
   "nbconvert_exporter": "python",
   "pygments_lexer": "ipython3",
   "version": "3.8.18"
  },
  "orig_nbformat": 4
 },
 "nbformat": 4,
 "nbformat_minor": 2
}
